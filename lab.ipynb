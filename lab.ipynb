{
 "cells": [
  {
   "cell_type": "markdown",
   "metadata": {},
   "source": [
    "### Importando bibliotecas"
   ]
  },
  {
   "cell_type": "code",
   "execution_count": 15,
   "metadata": {},
   "outputs": [
    {
     "name": "stdout",
     "output_type": "stream",
     "text": [
      "Requirement already satisfied: pgmpy in c:\\users\\rafol\\appdata\\roaming\\python\\python310\\site-packages (0.1.18)\n",
      "Requirement already satisfied: scikit-learn in c:\\python310\\lib\\site-packages (from pgmpy) (1.0.2)\n",
      "Requirement already satisfied: networkx in c:\\users\\rafol\\appdata\\roaming\\python\\python310\\site-packages (from pgmpy) (2.8.4)\n",
      "Requirement already satisfied: tqdm in c:\\python310\\lib\\site-packages (from pgmpy) (4.64.0)\n",
      "Requirement already satisfied: scipy in c:\\python310\\lib\\site-packages (from pgmpy) (1.8.0)\n",
      "Requirement already satisfied: torch in c:\\users\\rafol\\appdata\\roaming\\python\\python310\\site-packages (from pgmpy) (1.11.0)\n",
      "Requirement already satisfied: statsmodels in c:\\users\\rafol\\appdata\\roaming\\python\\python310\\site-packages (from pgmpy) (0.13.2)\n",
      "Requirement already satisfied: pandas in c:\\python310\\lib\\site-packages (from pgmpy) (1.4.2)\n",
      "Requirement already satisfied: numpy in c:\\python310\\lib\\site-packages (from pgmpy) (1.22.3)\n",
      "Requirement already satisfied: joblib in c:\\python310\\lib\\site-packages (from pgmpy) (1.1.0)\n",
      "Requirement already satisfied: pyparsing in c:\\users\\rafol\\appdata\\roaming\\python\\python310\\site-packages (from pgmpy) (3.0.8)\n",
      "Requirement already satisfied: pytz>=2020.1 in c:\\python310\\lib\\site-packages (from pandas->pgmpy) (2022.1)\n",
      "Requirement already satisfied: python-dateutil>=2.8.1 in c:\\users\\rafol\\appdata\\roaming\\python\\python310\\site-packages (from pandas->pgmpy) (2.8.2)\n",
      "Requirement already satisfied: threadpoolctl>=2.0.0 in c:\\python310\\lib\\site-packages (from scikit-learn->pgmpy) (3.1.0)\n",
      "Requirement already satisfied: packaging>=21.3 in c:\\users\\rafol\\appdata\\roaming\\python\\python310\\site-packages (from statsmodels->pgmpy) (21.3)\n",
      "Requirement already satisfied: patsy>=0.5.2 in c:\\users\\rafol\\appdata\\roaming\\python\\python310\\site-packages (from statsmodels->pgmpy) (0.5.2)\n",
      "Requirement already satisfied: typing-extensions in c:\\python310\\lib\\site-packages (from torch->pgmpy) (4.2.0)\n",
      "Requirement already satisfied: colorama in c:\\python310\\lib\\site-packages (from tqdm->pgmpy) (0.4.4)\n",
      "Requirement already satisfied: six in c:\\users\\rafol\\appdata\\roaming\\python\\python310\\site-packages (from patsy>=0.5.2->statsmodels->pgmpy) (1.16.0)\n",
      "Note: you may need to restart the kernel to use updated packages.\n"
     ]
    },
    {
     "name": "stderr",
     "output_type": "stream",
     "text": [
      "WARNING: Ignoring invalid distribution -ip (c:\\python310\\lib\\site-packages)\n",
      "WARNING: Ignoring invalid distribution - (c:\\python310\\lib\\site-packages)\n",
      "WARNING: Ignoring invalid distribution -ip (c:\\python310\\lib\\site-packages)\n",
      "WARNING: Ignoring invalid distribution - (c:\\python310\\lib\\site-packages)\n",
      "WARNING: Ignoring invalid distribution -ip (c:\\python310\\lib\\site-packages)\n",
      "WARNING: Ignoring invalid distribution - (c:\\python310\\lib\\site-packages)\n",
      "WARNING: Ignoring invalid distribution -ip (c:\\python310\\lib\\site-packages)\n",
      "WARNING: Ignoring invalid distribution - (c:\\python310\\lib\\site-packages)\n"
     ]
    }
   ],
   "source": [
    "import pandas as pd\n",
    "import numpy as np\n",
    "import matplotlib.pyplot as plt\n",
    "%pip install pgmpy\n",
    "import pgmpy\n",
    "from datetime import date"
   ]
  },
  {
   "cell_type": "markdown",
   "metadata": {},
   "source": [
    "### Definindo o Dataframe"
   ]
  },
  {
   "cell_type": "code",
   "execution_count": 16,
   "metadata": {},
   "outputs": [
    {
     "name": "stdout",
     "output_type": "stream",
     "text": [
      "    handicapped-infants water-project-cost-sharing  \\\n",
      "0                     n                          y   \n",
      "1                     n                          y   \n",
      "2                     ?                          y   \n",
      "3                     n                          y   \n",
      "4                     y                          y   \n",
      "..                  ...                        ...   \n",
      "410                   ?                          ?   \n",
      "411                   y                          n   \n",
      "412                   y                          y   \n",
      "413                   y                          y   \n",
      "414                   n                          y   \n",
      "\n",
      "    adoption-of-the-budget-resolution physician-fee-freeze  \\\n",
      "0                                   n                    y   \n",
      "1                                   n                    y   \n",
      "2                                   y                    ?   \n",
      "3                                   y                    n   \n",
      "4                                   y                    n   \n",
      "..                                ...                  ...   \n",
      "410                                 ?                    n   \n",
      "411                                 y                    n   \n",
      "412                                 y                    n   \n",
      "413                                 y                    n   \n",
      "414                                 n                    y   \n",
      "\n",
      "    religious-groups-in-schools anti-satellite-test-ban mx-missile  \\\n",
      "0                             y                       n          n   \n",
      "1                             y                       n          n   \n",
      "2                             y                       n          n   \n",
      "3                             y                       n          n   \n",
      "4                             y                       n          n   \n",
      "..                          ...                     ...        ...   \n",
      "410                           n                       y          y   \n",
      "411                           n                       y          y   \n",
      "412                           n                       y          y   \n",
      "413                           n                       y          n   \n",
      "414                           y                       n          n   \n",
      "\n",
      "    immigration synfuels-corporation-cutback education-spending  \\\n",
      "0             y                            ?                  y   \n",
      "1             n                            n                  y   \n",
      "2             n                            y                  n   \n",
      "3             n                            y                  n   \n",
      "4             n                            y                  ?   \n",
      "..          ...                          ...                ...   \n",
      "410           y                            n                  n   \n",
      "411           y                            n                  y   \n",
      "412           y                            y                  n   \n",
      "413           y                            n                  n   \n",
      "414           y                            n                  y   \n",
      "\n",
      "    superfund-right-to-sue crime duty-free-exports  \\\n",
      "0                        y     y                 n   \n",
      "1                        y     y                 n   \n",
      "2                        y     y                 n   \n",
      "3                        y     n                 n   \n",
      "4                        y     y                 y   \n",
      "..                     ...   ...               ...   \n",
      "410                      y     n                 y   \n",
      "411                      n     ?                 y   \n",
      "412                      y     n                 n   \n",
      "413                      n     n                 n   \n",
      "414                      y     y                 ?   \n",
      "\n",
      "    export-administration-act-south-africa      Target  \n",
      "0                                        y  republican  \n",
      "1                                        ?  republican  \n",
      "2                                        n    democrat  \n",
      "3                                        y    democrat  \n",
      "4                                        y    democrat  \n",
      "..                                     ...         ...  \n",
      "410                                      y    democrat  \n",
      "411                                      y    democrat  \n",
      "412                                      y    democrat  \n",
      "413                                      y    democrat  \n",
      "414                                      n  republican  \n",
      "\n",
      "[415 rows x 15 columns]\n"
     ]
    }
   ],
   "source": [
    "df = pd.read_csv('republican_democrat.csv', sep = ',')\n",
    "print(df)"
   ]
  },
  {
   "cell_type": "markdown",
   "metadata": {},
   "source": [
    "### Avaliando a quantidade de valores faltantes de cada atributo\n"
   ]
  },
  {
   "cell_type": "code",
   "execution_count": 17,
   "metadata": {},
   "outputs": [
    {
     "name": "stdout",
     "output_type": "stream",
     "text": [
      "handicapped-infants  water-project-cost-sharing  adoption-of-the-budget-resolution  physician-fee-freeze  religious-groups-in-schools  anti-satellite-test-ban  mx-missile  immigration  synfuels-corporation-cutback  education-spending  superfund-right-to-sue  crime  duty-free-exports  export-administration-act-south-africa  Target    \n",
      "n                    y                           n                                  y                     y                            n                        n           n            n                             y                   y                       y      n                  y                                       republican    9\n",
      "                     n                           n                                  y                     y                            n                        n           n            n                             y                   y                       y      n                  n                                       republican    7\n",
      "y                    n                           y                                  n                     n                            y                        y           n            n                             n                   n                       n      y                  ?                                       democrat      6\n",
      "n                    y                           n                                  y                     y                            n                        n           n            n                             y                   y                       y      n                  n                                       republican    6\n",
      "                                                                                                                                                                            y            n                             y                   y                       y      n                  n                                       republican    6\n",
      "                                                                                                                                                                                                                                                                                                                                                  ..\n",
      "                                                                                                                                                                            n            n                             n                   y                       y      n                  y                                       republican    1\n",
      "                                                                                                                                                                                                                                                                          ?                  y                                       republican    1\n",
      "                                                                                                                                                                                                                                           ?                       y      y                  y                                       democrat      1\n",
      "                                                                                                                                                                                                                       ?                   y                       y      n                  n                                       republican    1\n",
      "y                    y                           y                                  y                     y                            n                        n           n            y                             y                   y                       y      n                  y                                       democrat      1\n",
      "Length: 322, dtype: int64\n"
     ]
    }
   ],
   "source": [
    "print(df.value_counts())"
   ]
  },
  {
   "cell_type": "markdown",
   "metadata": {},
   "source": [
    "\n",
    "\n",
    "Vemos que, em alguns atributos, está listado '?' como valor, o que indica que há dados faltantes. Como representam uma pequena porcentagem, é possível excluir as linhas com valores faltantes sem grande perda de dados."
   ]
  },
  {
   "cell_type": "code",
   "execution_count": 18,
   "metadata": {},
   "outputs": [
    {
     "name": "stdout",
     "output_type": "stream",
     "text": [
      "    handicapped-infants water-project-cost-sharing  \\\n",
      "3                     n                          y   \n",
      "5                     n                          y   \n",
      "8                     n                          y   \n",
      "19                    y                          y   \n",
      "23                    y                          y   \n",
      "..                  ...                        ...   \n",
      "406                   y                          n   \n",
      "407                   n                          n   \n",
      "409                   y                          n   \n",
      "412                   y                          y   \n",
      "413                   y                          y   \n",
      "\n",
      "    adoption-of-the-budget-resolution physician-fee-freeze  \\\n",
      "3                                   y                    n   \n",
      "5                                   y                    n   \n",
      "8                                   n                    y   \n",
      "19                                  y                    n   \n",
      "23                                  y                    n   \n",
      "..                                ...                  ...   \n",
      "406                                 y                    n   \n",
      "407                                 n                    y   \n",
      "409                                 y                    n   \n",
      "412                                 y                    n   \n",
      "413                                 y                    n   \n",
      "\n",
      "    religious-groups-in-schools anti-satellite-test-ban mx-missile  \\\n",
      "3                             y                       n          n   \n",
      "5                             y                       n          n   \n",
      "8                             y                       n          n   \n",
      "19                            n                       y          y   \n",
      "23                            n                       y          y   \n",
      "..                          ...                     ...        ...   \n",
      "406                           y                       n          y   \n",
      "407                           y                       n          n   \n",
      "409                           y                       y          y   \n",
      "412                           n                       y          y   \n",
      "413                           n                       y          n   \n",
      "\n",
      "    immigration synfuels-corporation-cutback education-spending  \\\n",
      "3             n                            y                  n   \n",
      "5             n                            n                  n   \n",
      "8             n                            n                  y   \n",
      "19            n                            y                  n   \n",
      "23            n                            n                  n   \n",
      "..          ...                          ...                ...   \n",
      "406           y                            n                  n   \n",
      "407           n                            y                  y   \n",
      "409           y                            y                  n   \n",
      "412           y                            y                  n   \n",
      "413           y                            n                  n   \n",
      "\n",
      "    superfund-right-to-sue crime duty-free-exports  \\\n",
      "3                        y     n                 n   \n",
      "5                        y     y                 y   \n",
      "8                        y     y                 n   \n",
      "19                       n     n                 y   \n",
      "23                       n     n                 y   \n",
      "..                     ...   ...               ...   \n",
      "406                      y     y                 n   \n",
      "407                      y     y                 n   \n",
      "409                      n     n                 n   \n",
      "412                      y     n                 n   \n",
      "413                      n     n                 n   \n",
      "\n",
      "    export-administration-act-south-africa      Target  \n",
      "3                                        y    democrat  \n",
      "5                                        y    democrat  \n",
      "8                                        y  republican  \n",
      "19                                       y    democrat  \n",
      "23                                       y    democrat  \n",
      "..                                     ...         ...  \n",
      "406                                      y    democrat  \n",
      "407                                      n    democrat  \n",
      "409                                      y    democrat  \n",
      "412                                      y    democrat  \n",
      "413                                      y    democrat  \n",
      "\n",
      "[224 rows x 15 columns]\n"
     ]
    }
   ],
   "source": [
    "for col in list(df):        # itera sobre as colunas de df\n",
    "    df=df[df[col]!='?']     # para cada coluna, elimina linhas  com valor '?'\n",
    "print(df)"
   ]
  },
  {
   "cell_type": "markdown",
   "metadata": {},
   "source": [
    "\n",
    "### Construção da Rede Bayesiana"
   ]
  },
  {
   "cell_type": "code",
   "execution_count": 20,
   "metadata": {},
   "outputs": [
    {
     "name": "stdout",
     "output_type": "stream",
     "text": [
      "+-----------+-----+\n",
      "| Target(0) | 0.5 |\n",
      "+-----------+-----+\n",
      "| Target(1) | 0.5 |\n",
      "+-----------+-----+\n"
     ]
    }
   ],
   "source": [
    "from pgmpy.factors.discrete import TabularCPD\n",
    "\n",
    "# cpd - conditional probability distribuition\n",
    "target_cpd = TabularCPD(variable='Target', variable_card=2, values=[[0.5], [0.5]])\n",
    "print(target_cpd)"
   ]
  }
 ],
 "metadata": {
  "interpreter": {
   "hash": "369f2c481f4da34e4445cda3fffd2e751bd1c4d706f27375911949ba6bb62e1c"
  },
  "kernelspec": {
   "display_name": "Python 3.10.4 64-bit",
   "language": "python",
   "name": "python3"
  },
  "language_info": {
   "codemirror_mode": {
    "name": "ipython",
    "version": 3
   },
   "file_extension": ".py",
   "mimetype": "text/x-python",
   "name": "python",
   "nbconvert_exporter": "python",
   "pygments_lexer": "ipython3",
   "version": "3.10.4"
  },
  "orig_nbformat": 4
 },
 "nbformat": 4,
 "nbformat_minor": 2
}
